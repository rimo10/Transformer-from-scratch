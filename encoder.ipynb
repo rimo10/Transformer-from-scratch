{
  "nbformat": 4,
  "nbformat_minor": 0,
  "metadata": {
    "colab": {
      "provenance": []
    },
    "kernelspec": {
      "name": "python3",
      "display_name": "Python 3"
    },
    "language_info": {
      "name": "python"
    }
  },
  "cells": [
    {
      "cell_type": "code",
      "source": [
        "!pip install transformers --quiet"
      ],
      "metadata": {
        "id": "Wd3y53FOZjEe"
      },
      "execution_count": 73,
      "outputs": []
    },
    {
      "cell_type": "code",
      "execution_count": 74,
      "metadata": {
        "id": "HkbVanePYgwy"
      },
      "outputs": [],
      "source": [
        "import torch\n",
        "import torchvision\n",
        "import torch.nn as nn\n",
        "from transformers import AutoTokenizer\n",
        "from transformers import AutoConfig\n",
        "tokenizer = AutoTokenizer.from_pretrained('bert-base-cased')\n",
        "import numpy as np\n",
        "import torch.nn.functional as F"
      ]
    },
    {
      "cell_type": "code",
      "source": [
        "tokenizer('Football is the best sport in the world. brazil is the most popular national team whereas Real Madrid is the most successfull club.',return_tensors='pt',add_special_tokens=False)"
      ],
      "metadata": {
        "colab": {
          "base_uri": "https://localhost:8080/"
        },
        "id": "NeTHES8qZjcw",
        "outputId": "cad864b0-f5f7-4257-f670-31281325893d"
      },
      "execution_count": 75,
      "outputs": [
        {
          "output_type": "execute_result",
          "data": {
            "text/plain": [
              "{'input_ids': tensor([[ 2289,  1110,  1103,  1436,  4799,  1107,  1103,  1362,   119, 12418,\n",
              "          5303,  1233,  1110,  1103,  1211,  1927,  1569,  1264,  6142,  5230,\n",
              "          6331,  1110,  1103,  1211,  2265,  1233,  1526,   119]]), 'token_type_ids': tensor([[0, 0, 0, 0, 0, 0, 0, 0, 0, 0, 0, 0, 0, 0, 0, 0, 0, 0, 0, 0, 0, 0, 0, 0,\n",
              "         0, 0, 0, 0]]), 'attention_mask': tensor([[1, 1, 1, 1, 1, 1, 1, 1, 1, 1, 1, 1, 1, 1, 1, 1, 1, 1, 1, 1, 1, 1, 1, 1,\n",
              "         1, 1, 1, 1]])}"
            ]
          },
          "metadata": {},
          "execution_count": 75
        }
      ]
    },
    {
      "cell_type": "code",
      "source": [
        "config=AutoConfig.from_pretrained('bert-base-uncased')\n",
        "config"
      ],
      "metadata": {
        "colab": {
          "base_uri": "https://localhost:8080/"
        },
        "id": "ChudDqjDbAeR",
        "outputId": "e5a05ceb-888f-42b4-ea30-f94af5fe222f"
      },
      "execution_count": 76,
      "outputs": [
        {
          "output_type": "execute_result",
          "data": {
            "text/plain": [
              "BertConfig {\n",
              "  \"_name_or_path\": \"bert-base-uncased\",\n",
              "  \"architectures\": [\n",
              "    \"BertForMaskedLM\"\n",
              "  ],\n",
              "  \"attention_probs_dropout_prob\": 0.1,\n",
              "  \"classifier_dropout\": null,\n",
              "  \"gradient_checkpointing\": false,\n",
              "  \"hidden_act\": \"gelu\",\n",
              "  \"hidden_dropout_prob\": 0.1,\n",
              "  \"hidden_size\": 768,\n",
              "  \"initializer_range\": 0.02,\n",
              "  \"intermediate_size\": 3072,\n",
              "  \"layer_norm_eps\": 1e-12,\n",
              "  \"max_position_embeddings\": 512,\n",
              "  \"model_type\": \"bert\",\n",
              "  \"num_attention_heads\": 12,\n",
              "  \"num_hidden_layers\": 12,\n",
              "  \"pad_token_id\": 0,\n",
              "  \"position_embedding_type\": \"absolute\",\n",
              "  \"transformers_version\": \"4.29.2\",\n",
              "  \"type_vocab_size\": 2,\n",
              "  \"use_cache\": true,\n",
              "  \"vocab_size\": 30522\n",
              "}"
            ]
          },
          "metadata": {},
          "execution_count": 76
        }
      ]
    },
    {
      "cell_type": "code",
      "source": [
        "embedding=nn.Embedding(config.vocab_size,config.hidden_size)"
      ],
      "metadata": {
        "id": "8nm42uqybPtH"
      },
      "execution_count": 77,
      "outputs": []
    },
    {
      "cell_type": "code",
      "source": [
        "text='Football is the best sport in the world. brazil is the most popular national team whereas Real Madrid is the most successfull club .'"
      ],
      "metadata": {
        "id": "yaSvh0YQcVJw"
      },
      "execution_count": 78,
      "outputs": []
    },
    {
      "cell_type": "code",
      "source": [
        "qkv=embedding(tokenizer(text,return_tensors='pt',add_special_tokens=False)['input_ids'])\n",
        "qkv.shape"
      ],
      "metadata": {
        "colab": {
          "base_uri": "https://localhost:8080/"
        },
        "id": "v-pBsQZVblCJ",
        "outputId": "6f0893ee-58f3-4782-b018-b6dbbd24f3f2"
      },
      "execution_count": 79,
      "outputs": [
        {
          "output_type": "execute_result",
          "data": {
            "text/plain": [
              "torch.Size([1, 28, 768])"
            ]
          },
          "metadata": {},
          "execution_count": 79
        }
      ]
    },
    {
      "cell_type": "code",
      "source": [
        "def compute_dot_product(query,key,value):\n",
        "  batch_size=query.shape[0]\n",
        "  scale=torch.sqrt(torch.tensor(key.shape[-1])) # sqrt(64)\n",
        "  dot_prod=torch.matmul(query,key.transpose(-2,-1))/scale\n",
        "  weights=torch.softmax(dot_prod,dim=-1) # 1 x 28 x 12 x 12\n",
        "  return torch.matmul(weights,value) # M(1 x 28 x 12 x 12) * M(1 x 28 x 12 x 64)"
      ],
      "metadata": {
        "id": "4xXPmgdCiHv5"
      },
      "execution_count": 80,
      "outputs": []
    },
    {
      "cell_type": "code",
      "source": [
        "class SelfAttention(nn.Module):\n",
        "  def __init__(self,embedd_dim,num_heads):\n",
        "    super().__init__()\n",
        "    self.num_heads=num_heads # 12\n",
        "    self.head_dim=embedd_dim//num_heads # 768//12\n",
        "    self.wq=nn.Linear(self.head_dim,self.head_dim) \n",
        "    self.wk=nn.Linear(self.head_dim,self.head_dim)\n",
        "    self.wv=nn.Linear(self.head_dim,self.head_dim)\n",
        "  \n",
        "  def forward(self,query,key,value):\n",
        "    batch_size = query.size(0)\n",
        "    query=query.view(batch_size,-1,self.num_heads,self.head_dim) # 1 x 28 x 12 x 64\n",
        "    key=key.view(batch_size,-1,self.num_heads,self.head_dim) # 1 x 28 x 12 x 64\n",
        "    value=value.view(batch_size,-1,self.num_heads,self.head_dim) # 1 x 28 x 12 x 64\n",
        "    Q = self.wq(query) # 1 x 28 x 12 x 64\n",
        "    K = self.wk(key) # 1 x 28 x 12 x 64\n",
        "    V = self.wv(value) # 1 x 28 x 12 x 64\n",
        "    return compute_dot_product(Q,K,V)"
      ],
      "metadata": {
        "id": "_eVSmHsebqMv"
      },
      "execution_count": 81,
      "outputs": []
    },
    {
      "cell_type": "code",
      "source": [
        "class MultiHeadAttention(nn.Module):\n",
        "  def __init__(self,embdd_dim,num_heads):\n",
        "    super().__init__()    \n",
        "    self.embdd_dim=embdd_dim\n",
        "    self.att=SelfAttention(embdd_dim,num_heads)\n",
        "    self.fc=nn.Linear(embdd_dim,embdd_dim)\n",
        "\n",
        "  def forward(self,query,key,value):\n",
        "    attention=self.att(query,key,value) # 1 x 28 x 12 x 64\n",
        "    attention=attention.view(query.size(0),-1,self.embdd_dim) # 1 x 28 x 768\n",
        "    fc_out=self.fc(attention)\n",
        "    return attention"
      ],
      "metadata": {
        "id": "P39HqJpVoGIX"
      },
      "execution_count": 82,
      "outputs": []
    },
    {
      "cell_type": "code",
      "source": [
        "MultiHeadAttention(768,12)(qkv,qkv,qkv).shape"
      ],
      "metadata": {
        "colab": {
          "base_uri": "https://localhost:8080/"
        },
        "id": "XpzORG0SyzfA",
        "outputId": "67acf6a9-98ed-469a-cd9c-fe880edb566c"
      },
      "execution_count": 83,
      "outputs": [
        {
          "output_type": "execute_result",
          "data": {
            "text/plain": [
              "torch.Size([1, 28, 768])"
            ]
          },
          "metadata": {},
          "execution_count": 83
        }
      ]
    },
    {
      "cell_type": "code",
      "source": [
        "class FeedForward(nn.Module):\n",
        "  def __init__(self,embedd_dim):\n",
        "    super().__init__()\n",
        "    self.fc1=nn.Linear(embedd_dim,embedd_dim*2)\n",
        "    self.fc2=nn.Linear(embedd_dim*2,embedd_dim)\n",
        "  \n",
        "  def forward(self,x):\n",
        "    x=F.gelu(self.fc1(x))\n",
        "    x=self.fc2(x)\n",
        "    return x"
      ],
      "metadata": {
        "id": "52L89RGZcnpq"
      },
      "execution_count": 84,
      "outputs": []
    },
    {
      "cell_type": "code",
      "source": [
        "class ResidualBlock(nn.Module):\n",
        "  def __init__(self,fn):\n",
        "    super().__init__()\n",
        "    self.fn=fn\n",
        "  \n",
        "  def forward(self,x):\n",
        "    res=x\n",
        "    x=self.fn(x)\n",
        "    x+=res\n",
        "    return x"
      ],
      "metadata": {
        "id": "COFbynZJcp--"
      },
      "execution_count": 85,
      "outputs": []
    },
    {
      "cell_type": "code",
      "source": [
        "class TransformerEncoderBlock(nn.Module):\n",
        "  def __init__(self,emb_size,num_heads,drop_p=0.3):\n",
        "    super().__init__()\n",
        "    self.attention=MultiHeadAttention(emb_size,num_heads)\n",
        "    self.norm1 = nn.LayerNorm(emb_size)\n",
        "    self.feed_forward = FeedForward(emb_size)\n",
        "    self.norm2 = nn.LayerNorm(emb_size)\n",
        "    self.dropout = nn.Dropout(drop_p)\n",
        "\n",
        "  def forward(self, x):\n",
        "    attention_out = self.attention(x, x, x)\n",
        "    x = x + self.dropout(attention_out)\n",
        "    x = self.norm1(x)\n",
        "    feed_forward_out = self.feed_forward(x)\n",
        "    x = x + self.dropout(feed_forward_out)\n",
        "    x = self.norm2(x)\n",
        "    return x"
      ],
      "metadata": {
        "id": "HGGPatR1csgF"
      },
      "execution_count": 86,
      "outputs": []
    },
    {
      "cell_type": "code",
      "source": [
        "class TransformerEncoder(nn.Sequential):\n",
        "  def __init__(self, depth,emb_size, num_heads):\n",
        "      super().__init__(*[TransformerEncoderBlock(emb_size, num_heads) for _ in range(depth)])"
      ],
      "metadata": {
        "id": "sJ5RpzMUA8W2"
      },
      "execution_count": 87,
      "outputs": []
    },
    {
      "cell_type": "code",
      "source": [
        "Encoder=TransformerEncoder(depth=6,emb_size=config.hidden_size, num_heads=config.num_attention_heads)"
      ],
      "metadata": {
        "id": "x_AmnpUIDcnq"
      },
      "execution_count": 88,
      "outputs": []
    },
    {
      "cell_type": "code",
      "source": [
        "Encoder(qkv)"
      ],
      "metadata": {
        "id": "ye_cWm_CDf_0",
        "colab": {
          "base_uri": "https://localhost:8080/"
        },
        "outputId": "6cf0b356-68b9-4af7-bff3-2255fe9c228d"
      },
      "execution_count": 89,
      "outputs": [
        {
          "output_type": "execute_result",
          "data": {
            "text/plain": [
              "tensor([[[ 0.3486,  0.4549, -1.4903,  ..., -0.9687,  0.1448, -1.1709],\n",
              "         [ 0.9671, -0.3488,  0.0258,  ..., -0.6450, -0.5667, -0.2769],\n",
              "         [-0.4156,  0.2014, -1.2503,  ..., -0.3972, -0.7647, -0.8837],\n",
              "         ...,\n",
              "         [ 0.2798, -2.4494,  0.6453,  ..., -0.3680,  0.2216, -2.2665],\n",
              "         [ 0.5365, -1.9726,  0.4352,  ..., -0.6160, -0.2940, -1.2681],\n",
              "         [-0.7834, -0.1028, -1.5574,  ..., -0.5986, -2.5298,  0.5569]]],\n",
              "       grad_fn=<NativeLayerNormBackward0>)"
            ]
          },
          "metadata": {},
          "execution_count": 89
        }
      ]
    },
    {
      "cell_type": "code",
      "source": [],
      "metadata": {
        "id": "G1IdwNya1MP4"
      },
      "execution_count": 89,
      "outputs": []
    }
  ]
}